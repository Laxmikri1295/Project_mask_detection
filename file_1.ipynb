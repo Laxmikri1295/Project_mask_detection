{
 "cells": [
  {
   "cell_type": "code",
   "execution_count": 1,
   "id": "ec373bbb",
   "metadata": {},
   "outputs": [],
   "source": [
    "train_r = r'C:\\Users\\hp\\intersala_project\\train'\n",
    "test_r = r'C:\\Users\\hp\\intersala_project\\test'\n",
    "validation_r = r'C:\\Users\\hp\\intersala_project\\validation'"
   ]
  },
  {
   "cell_type": "code",
   "execution_count": 2,
   "id": "9526926d",
   "metadata": {},
   "outputs": [],
   "source": [
    "from tensorflow.keras.preprocessing.image import ImageDataGenerator"
   ]
  },
  {
   "cell_type": "code",
   "execution_count": 3,
   "id": "459b1da2",
   "metadata": {},
   "outputs": [
    {
     "name": "stdout",
     "output_type": "stream",
     "text": [
      "Found 2000 images belonging to 2 classes.\n"
     ]
    }
   ],
   "source": [
    "data_gen = ImageDataGenerator(rescale=1./255)\n",
    "data_test = ImageDataGenerator(rescale = 1./255)\n",
    "data_train=data_gen.flow_from_directory(\n",
    "    train_r,\n",
    "    target_size=(150,150),\n",
    "    batch_size=20,\n",
    "    class_mode='binary'\n",
    ")"
   ]
  },
  {
   "cell_type": "code",
   "execution_count": 23,
   "id": "634c90a6",
   "metadata": {},
   "outputs": [
    {
     "data": {
      "text/plain": [
       "'C:\\\\Users\\\\hp\\\\intersala_project\\\\train'"
      ]
     },
     "execution_count": 23,
     "metadata": {},
     "output_type": "execute_result"
    }
   ],
   "source": [
    "train_r"
   ]
  },
  {
   "cell_type": "code",
   "execution_count": 4,
   "id": "f85c4c21",
   "metadata": {},
   "outputs": [
    {
     "name": "stdout",
     "output_type": "stream",
     "text": [
      "Found 1000 images belonging to 2 classes.\n"
     ]
    }
   ],
   "source": [
    "data_test = data_gen.flow_from_directory(\n",
    "    test_r,\n",
    "    target_size = (150,150),\n",
    "    batch_size = 20,\n",
    "    class_mode = 'binary'\n",
    ")"
   ]
  },
  {
   "cell_type": "code",
   "execution_count": 5,
   "id": "376d5802",
   "metadata": {},
   "outputs": [
    {
     "name": "stdout",
     "output_type": "stream",
     "text": [
      "Found 1000 images belonging to 2 classes.\n"
     ]
    }
   ],
   "source": [
    "data_valid = data_gen.flow_from_directory(\n",
    "    validation_r,\n",
    "    target_size = (150,150),\n",
    "    batch_size = 20,\n",
    "    class_mode = 'binary'\n",
    ")"
   ]
  },
  {
   "cell_type": "code",
   "execution_count": 6,
   "id": "2c370879",
   "metadata": {},
   "outputs": [],
   "source": [
    "from tensorflow.keras import layers\n",
    "from tensorflow.keras import models"
   ]
  },
  {
   "cell_type": "code",
   "execution_count": 7,
   "id": "f8e8356a",
   "metadata": {},
   "outputs": [],
   "source": [
    "models = models.Sequential()\n",
    "models.add(layers.Conv2D(32, (3,3) , activation='relu' , input_shape = (150, 150, 3)))\n",
    "models.add(layers.MaxPooling2D((2,2)))\n",
    "\n",
    "models.add(layers.Conv2D(64, (3,3), activation='relu'))\n",
    "models.add(layers.MaxPooling2D(2,2))\n",
    "\n",
    "models.add(layers.Conv2D(128,(3,3), activation='relu'))\n",
    "models.add(layers.MaxPooling2D((2,2)))\n",
    "\n",
    "models.add(layers.Conv2D(128 , (3,3), activation = 'relu'))\n",
    "models.add(layers.MaxPooling2D((2,2)))\n",
    "\n",
    "models.add(layers.Flatten())\n",
    "\n",
    "models.add(layers.Dense(300, activation = 'relu'))\n",
    "models.add(layers.Dense(1 , activation='sigmoid'))"
   ]
  },
  {
   "cell_type": "code",
   "execution_count": 8,
   "id": "8311b000",
   "metadata": {},
   "outputs": [],
   "source": [
    "from tensorflow import keras"
   ]
  },
  {
   "cell_type": "code",
   "execution_count": 9,
   "id": "521158a6",
   "metadata": {},
   "outputs": [
    {
     "name": "stderr",
     "output_type": "stream",
     "text": [
      "C:\\Users\\hp\\anaconda3\\lib\\site-packages\\tensorflow\\python\\keras\\optimizer_v2\\optimizer_v2.py:374: UserWarning: The `lr` argument is deprecated, use `learning_rate` instead.\n",
      "  warnings.warn(\n"
     ]
    }
   ],
   "source": [
    "models.compile( optimizer = keras.optimizers.RMSprop(lr=1e-4) , loss = 'binary_crossentropy' , metrics = ['accuracy'] )"
   ]
  },
  {
   "cell_type": "code",
   "execution_count": 10,
   "id": "deb9dc7d",
   "metadata": {},
   "outputs": [
    {
     "name": "stdout",
     "output_type": "stream",
     "text": [
      "Model: \"sequential\"\n",
      "_________________________________________________________________\n",
      "Layer (type)                 Output Shape              Param #   \n",
      "=================================================================\n",
      "conv2d (Conv2D)              (None, 148, 148, 32)      896       \n",
      "_________________________________________________________________\n",
      "max_pooling2d (MaxPooling2D) (None, 74, 74, 32)        0         \n",
      "_________________________________________________________________\n",
      "conv2d_1 (Conv2D)            (None, 72, 72, 64)        18496     \n",
      "_________________________________________________________________\n",
      "max_pooling2d_1 (MaxPooling2 (None, 36, 36, 64)        0         \n",
      "_________________________________________________________________\n",
      "conv2d_2 (Conv2D)            (None, 34, 34, 128)       73856     \n",
      "_________________________________________________________________\n",
      "max_pooling2d_2 (MaxPooling2 (None, 17, 17, 128)       0         \n",
      "_________________________________________________________________\n",
      "conv2d_3 (Conv2D)            (None, 15, 15, 128)       147584    \n",
      "_________________________________________________________________\n",
      "max_pooling2d_3 (MaxPooling2 (None, 7, 7, 128)         0         \n",
      "_________________________________________________________________\n",
      "flatten (Flatten)            (None, 6272)              0         \n",
      "_________________________________________________________________\n",
      "dense (Dense)                (None, 300)               1881900   \n",
      "_________________________________________________________________\n",
      "dense_1 (Dense)              (None, 1)                 301       \n",
      "=================================================================\n",
      "Total params: 2,123,033\n",
      "Trainable params: 2,123,033\n",
      "Non-trainable params: 0\n",
      "_________________________________________________________________\n"
     ]
    }
   ],
   "source": [
    "models.summary()"
   ]
  },
  {
   "cell_type": "code",
   "execution_count": 11,
   "id": "0d5f1d27",
   "metadata": {},
   "outputs": [
    {
     "name": "stdout",
     "output_type": "stream",
     "text": [
      "Epoch 1/10\n",
      "100/100 [==============================] - 68s 662ms/step - loss: 0.6960 - accuracy: 0.5305 - val_loss: 0.6785 - val_accuracy: 0.6110\n",
      "Epoch 2/10\n",
      "100/100 [==============================] - 1848s 19s/step - loss: 0.6632 - accuracy: 0.6070 - val_loss: 0.6718 - val_accuracy: 0.5570\n",
      "Epoch 3/10\n",
      "100/100 [==============================] - 66s 659ms/step - loss: 0.6211 - accuracy: 0.6665 - val_loss: 0.6280 - val_accuracy: 0.6430\n",
      "Epoch 4/10\n",
      "100/100 [==============================] - 67s 665ms/step - loss: 0.5791 - accuracy: 0.7060 - val_loss: 0.5985 - val_accuracy: 0.6740\n",
      "Epoch 5/10\n",
      "100/100 [==============================] - 74s 736ms/step - loss: 0.5533 - accuracy: 0.7095 - val_loss: 0.5906 - val_accuracy: 0.6850\n",
      "Epoch 6/10\n",
      "100/100 [==============================] - 76s 764ms/step - loss: 0.5225 - accuracy: 0.7420 - val_loss: 0.5694 - val_accuracy: 0.7040\n",
      "Epoch 7/10\n",
      "100/100 [==============================] - 77s 766ms/step - loss: 0.4954 - accuracy: 0.7635 - val_loss: 0.5860 - val_accuracy: 0.6900\n",
      "Epoch 8/10\n",
      "100/100 [==============================] - 77s 772ms/step - loss: 0.4798 - accuracy: 0.7630 - val_loss: 0.5784 - val_accuracy: 0.6940\n",
      "Epoch 9/10\n",
      "100/100 [==============================] - 82s 820ms/step - loss: 0.4524 - accuracy: 0.7830 - val_loss: 0.6683 - val_accuracy: 0.6550\n",
      "Epoch 10/10\n",
      "100/100 [==============================] - 81s 812ms/step - loss: 0.4221 - accuracy: 0.8060 - val_loss: 0.5438 - val_accuracy: 0.7230\n"
     ]
    }
   ],
   "source": [
    "mmodel_history  = models.fit(\n",
    "data_train,\n",
    "    steps_per_epoch = 100,\n",
    "    epochs = 10,\n",
    "    validation_data = data_valid,\n",
    "    validation_steps=50\n",
    ")"
   ]
  },
  {
   "cell_type": "code",
   "execution_count": 18,
   "id": "14af95c8",
   "metadata": {},
   "outputs": [
    {
     "data": {
      "image/png": "[encoded data removed]",
      "text/plain": [
       "<Figure size 576x720 with 1 Axes>"
      ]
     },
     "metadata": {
      "needs_background": "light"
     },
     "output_type": "display_data"
    },
    {
     "data": {
      "image/png": "[encoded data removed]",
      "text/plain": [
       "<Figure size 576x720 with 1 Axes>"
      ]
     },
     "metadata": {
      "needs_background": "light"
     },
     "output_type": "display_data"
    }
   ],
   "source": [
    "import pandas as pd\n",
    "import matplotlib.pyplot as pt\n",
    "%matplotlib inline\n",
    "pd.DataFrame(mmodel_history.history).plot(figsize=(8,10))\n",
    "pt.gca().set_ylim(0,1)\n",
    "pt.show(0)"
   ]
  },
  {
   "cell_type": "code",
   "execution_count": null,
   "id": "9a6ffcf4",
   "metadata": {},
   "outputs": [],
   "source": [
    "#from tensorflow.keras import backend as k\n",
    "#k.clear_session()\n",
    "#del model"
   ]
  },
  {
   "cell_type": "code",
   "execution_count": 20,
   "id": "1ad3ad7d",
   "metadata": {},
   "outputs": [
    {
     "name": "stdout",
     "output_type": "stream",
     "text": [
      "50/50 [==============================] - 14s 286ms/step - loss: 0.5353 - accuracy: 0.7350\n"
     ]
    },
    {
     "data": {
      "text/plain": [
       "[0.5353214144706726, 0.7350000143051147]"
      ]
     },
     "execution_count": 20,
     "metadata": {},
     "output_type": "execute_result"
    }
   ],
   "source": [
    "models.evaluate(data_test)"
   ]
  },
  {
   "cell_type": "code",
   "execution_count": 28,
   "id": "7b112645",
   "metadata": {},
   "outputs": [],
   "source": [
    "from tensorflow.keras import backend as k\n",
    "k.clear_session()\n",
    "del models"
   ]
  },
  {
   "cell_type": "code",
   "execution_count": 29,
   "id": "7b80c1ca",
   "metadata": {},
   "outputs": [],
   "source": [
    "data_g=ImageDataGenerator(\n",
    "rescale = 1./255,\n",
    "rotation_range=40,\n",
    "    width_shift_range=0.2,\n",
    "    height_shift_range=0.2,\n",
    "    zoom_range=0.2,\n",
    "    horizontal_flip=True\n",
    ")"
   ]
  },
  {
   "cell_type": "code",
   "execution_count": 32,
   "id": "279e388c",
   "metadata": {},
   "outputs": [
    {
     "name": "stdout",
     "output_type": "stream",
     "text": [
      "Found 2000 images belonging to 2 classes.\n"
     ]
    }
   ],
   "source": [
    "train = data_g.flow_from_directory(\n",
    "train_r ,\n",
    "    target_size = (150,150),\n",
    "    batch_size=20,\n",
    "    class_mode='binary'\n",
    ")"
   ]
  },
  {
   "cell_type": "code",
   "execution_count": null,
   "id": "327edf4d",
   "metadata": {},
   "outputs": [],
   "source": []
  },
  {
   "cell_type": "code",
   "execution_count": null,
   "id": "90a7a38e",
   "metadata": {},
   "outputs": [],
   "source": []
  },
  {
   "cell_type": "code",
   "execution_count": null,
   "id": "db609fc5",
   "metadata": {},
   "outputs": [],
   "source": []
  },
  {
   "cell_type": "code",
   "execution_count": null,
   "id": "52fe7204",
   "metadata": {},
   "outputs": [],
   "source": []
  }
 ],
 "metadata": {
  "kernelspec": {
   "display_name": "Python 3",
   "language": "python",
   "name": "python3"
  },
  "language_info": {
   "codemirror_mode": {
    "name": "ipython",
    "version": 3
   },
   "file_extension": ".py",
   "mimetype": "text/x-python",
   "name": "python",
   "nbconvert_exporter": "python",
   "pygments_lexer": "ipython3",
   "version": "3.8.8"
  }
 },
 "nbformat": 4,
 "nbformat_minor": 5
}
