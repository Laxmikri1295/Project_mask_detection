{
 "cells": [
  {
   "cell_type": "code",
   "execution_count": 1,
   "id": "a8bc5e1c",
   "metadata": {},
   "outputs": [],
   "source": [
    "train_r = r'C:\\Users\\hp\\intersala_project\\train'\n",
    "test_r = r'C:\\Users\\hp\\intersala_project\\test'\n",
    "validation_r = r'C:\\Users\\hp\\intersala_project\\validation'"
   ]
  },
  {
   "cell_type": "code",
   "execution_count": 2,
   "id": "bb75d8fa",
   "metadata": {},
   "outputs": [],
   "source": [
    "from tensorflow.keras.preprocessing.image import ImageDataGenerator"
   ]
  },
  {
   "cell_type": "code",
   "execution_count": 3,
   "id": "15a63a96",
   "metadata": {},
   "outputs": [],
   "source": [
    "train_gen = ImageDataGenerator(\n",
    "    \n",
    "    rescale = 1./255,\n",
    "    rotation_range = 40,\n",
    "    width_shift_range = 0.2,\n",
    "    height_shift_range = 0.2,\n",
    "    zoom_range = 0.2,\n",
    "    horizontal_flip = True\n",
    ")"
   ]
  },
  {
   "cell_type": "code",
   "execution_count": 4,
   "id": "32a64665",
   "metadata": {},
   "outputs": [],
   "source": [
    "test_gen = ImageDataGenerator(rescale = 1./255)"
   ]
  },
  {
   "cell_type": "code",
   "execution_count": 5,
   "id": "d84ca180",
   "metadata": {},
   "outputs": [
    {
     "name": "stdout",
     "output_type": "stream",
     "text": [
      "Found 2000 images belonging to 2 classes.\n"
     ]
    }
   ],
   "source": [
    "train_data = train_gen.flow_from_directory(\n",
    " \n",
    "    train_r,\n",
    "    target_size = (150,150),\n",
    "    batch_size=20,\n",
    "    class_mode = 'binary'\n",
    ")"
   ]
  },
  {
   "cell_type": "code",
   "execution_count": 6,
   "id": "25fc61af",
   "metadata": {},
   "outputs": [
    {
     "name": "stdout",
     "output_type": "stream",
     "text": [
      "Found 1000 images belonging to 2 classes.\n"
     ]
    }
   ],
   "source": [
    "test_data = test_gen.flow_from_directory(\n",
    "\n",
    "    test_r,\n",
    "    target_size = (150,150),\n",
    "    batch_size = 20,\n",
    "    class_mode = 'binary'\n",
    ")"
   ]
  },
  {
   "cell_type": "code",
   "execution_count": 7,
   "id": "bacdab2d",
   "metadata": {},
   "outputs": [
    {
     "name": "stdout",
     "output_type": "stream",
     "text": [
      "Found 1000 images belonging to 2 classes.\n"
     ]
    }
   ],
   "source": [
    "valid_data = test_gen.flow_from_directory(\n",
    "\n",
    "    validation_r,\n",
    "    target_size = (150,150),\n",
    "    batch_size = 20,\n",
    "    class_mode = 'binary'\n",
    ")"
   ]
  },
  {
   "cell_type": "code",
   "execution_count": 8,
   "id": "572cd4c1",
   "metadata": {},
   "outputs": [],
   "source": [
    "from tensorflow.keras.applications import VGG16"
   ]
  },
  {
   "cell_type": "code",
   "execution_count": 9,
   "id": "118fc5c5",
   "metadata": {},
   "outputs": [],
   "source": [
    "con_base  = VGG16(\n",
    "    weights = 'imagenet',\n",
    "    include_top = False,\n",
    "    input_shape = (150,150,3)    \n",
    ")"
   ]
  },
  {
   "cell_type": "code",
   "execution_count": 10,
   "id": "b6ae0ef4",
   "metadata": {},
   "outputs": [
    {
     "name": "stdout",
     "output_type": "stream",
     "text": [
      "Model: \"vgg16\"\n",
      "_________________________________________________________________\n",
      "Layer (type)                 Output Shape              Param #   \n",
      "=================================================================\n",
      "input_1 (InputLayer)         [(None, 150, 150, 3)]     0         \n",
      "_________________________________________________________________\n",
      "block1_conv1 (Conv2D)        (None, 150, 150, 64)      1792      \n",
      "_________________________________________________________________\n",
      "block1_conv2 (Conv2D)        (None, 150, 150, 64)      36928     \n",
      "_________________________________________________________________\n",
      "block1_pool (MaxPooling2D)   (None, 75, 75, 64)        0         \n",
      "_________________________________________________________________\n",
      "block2_conv1 (Conv2D)        (None, 75, 75, 128)       73856     \n",
      "_________________________________________________________________\n",
      "block2_conv2 (Conv2D)        (None, 75, 75, 128)       147584    \n",
      "_________________________________________________________________\n",
      "block2_pool (MaxPooling2D)   (None, 37, 37, 128)       0         \n",
      "_________________________________________________________________\n",
      "block3_conv1 (Conv2D)        (None, 37, 37, 256)       295168    \n",
      "_________________________________________________________________\n",
      "block3_conv2 (Conv2D)        (None, 37, 37, 256)       590080    \n",
      "_________________________________________________________________\n",
      "block3_conv3 (Conv2D)        (None, 37, 37, 256)       590080    \n",
      "_________________________________________________________________\n",
      "block3_pool (MaxPooling2D)   (None, 18, 18, 256)       0         \n",
      "_________________________________________________________________\n",
      "block4_conv1 (Conv2D)        (None, 18, 18, 512)       1180160   \n",
      "_________________________________________________________________\n",
      "block4_conv2 (Conv2D)        (None, 18, 18, 512)       2359808   \n",
      "_________________________________________________________________\n",
      "block4_conv3 (Conv2D)        (None, 18, 18, 512)       2359808   \n",
      "_________________________________________________________________\n",
      "block4_pool (MaxPooling2D)   (None, 9, 9, 512)         0         \n",
      "_________________________________________________________________\n",
      "block5_conv1 (Conv2D)        (None, 9, 9, 512)         2359808   \n",
      "_________________________________________________________________\n",
      "block5_conv2 (Conv2D)        (None, 9, 9, 512)         2359808   \n",
      "_________________________________________________________________\n",
      "block5_conv3 (Conv2D)        (None, 9, 9, 512)         2359808   \n",
      "_________________________________________________________________\n",
      "block5_pool (MaxPooling2D)   (None, 4, 4, 512)         0         \n",
      "=================================================================\n",
      "Total params: 14,714,688\n",
      "Trainable params: 14,714,688\n",
      "Non-trainable params: 0\n",
      "_________________________________________________________________\n"
     ]
    }
   ],
   "source": [
    "con_base.summary()"
   ]
  },
  {
   "cell_type": "code",
   "execution_count": 11,
   "id": "2dd03452",
   "metadata": {},
   "outputs": [],
   "source": [
    "from tensorflow.keras import layers\n",
    "from tensorflow.keras import models"
   ]
  },
  {
   "cell_type": "code",
   "execution_count": 12,
   "id": "c2d53b24",
   "metadata": {},
   "outputs": [],
   "source": [
    "model = models.Sequential()"
   ]
  },
  {
   "cell_type": "code",
   "execution_count": 13,
   "id": "10ceb402",
   "metadata": {},
   "outputs": [],
   "source": [
    "model.add(con_base)\n",
    "model.add(layers.Flatten())\n",
    "model.add(layers.Dense(512, activation='relu'))\n",
    "model.add(layers.Dense(1, activation='sigmoid'))"
   ]
  },
  {
   "cell_type": "code",
   "execution_count": 14,
   "id": "e76eee4c",
   "metadata": {},
   "outputs": [],
   "source": [
    "from tensorflow import  keras"
   ]
  },
  {
   "cell_type": "code",
   "execution_count": 15,
   "id": "900047a7",
   "metadata": {},
   "outputs": [],
   "source": [
    "from tensorflow.keras import optimizers"
   ]
  },
  {
   "cell_type": "code",
   "execution_count": 16,
   "id": "0bf6d0b2",
   "metadata": {},
   "outputs": [
    {
     "name": "stderr",
     "output_type": "stream",
     "text": [
      "C:\\Users\\hp\\anaconda3\\lib\\site-packages\\tensorflow\\python\\keras\\optimizer_v2\\optimizer_v2.py:374: UserWarning: The `lr` argument is deprecated, use `learning_rate` instead.\n",
      "  warnings.warn(\n"
     ]
    }
   ],
   "source": [
    "model.compile(\n",
    "optimizer = optimizers.RMSprop(lr= 1e-4),\n",
    "loss = 'binary_crossentropy',\n",
    "    metrics =['acc']\n",
    ")"
   ]
  },
  {
   "cell_type": "code",
   "execution_count": 17,
   "id": "1108fda0",
   "metadata": {},
   "outputs": [],
   "source": [
    "#save model after each epochs\n",
    "check_cb = keras.callbacks.ModelCheckpoint(\"cnn_model-{epoch:02d}.h5\")"
   ]
  },
  {
   "cell_type": "code",
   "execution_count": null,
   "id": "31d17431",
   "metadata": {},
   "outputs": [
    {
     "name": "stderr",
     "output_type": "stream",
     "text": [
      "C:\\Users\\hp\\anaconda3\\lib\\site-packages\\tensorflow\\python\\keras\\engine\\training.py:1940: UserWarning: `Model.fit_generator` is deprecated and will be removed in a future version. Please use `Model.fit`, which supports generators.\n",
      "  warnings.warn('`Model.fit_generator` is deprecated and '\n"
     ]
    },
    {
     "name": "stdout",
     "output_type": "stream",
     "text": [
      "Epoch 1/4\n",
      "100/100 [==============================] - 1194s 12s/step - loss: 0.7155 - acc: 0.5545 - val_loss: 0.6641 - val_acc: 0.6180\n",
      "Epoch 2/4\n",
      "100/100 [==============================] - 1253s 13s/step - loss: 0.6459 - acc: 0.6195 - val_loss: 0.4289 - val_acc: 0.8220\n",
      "Epoch 3/4\n",
      " 38/100 [==========>...................] - ETA: 37:56 - loss: 0.6154 - acc: 0.7013"
     ]
    }
   ],
   "source": [
    "model_hist = model.fit_generator(\n",
    "train_data,\n",
    "    steps_per_epoch = 100,\n",
    "    epochs = 4,\n",
    "    validation_data = valid_data,\n",
    "    validation_steps=50,\n",
    "    callbacks = [check_cb]\n",
    ")"
   ]
  },
  {
   "cell_type": "code",
   "execution_count": null,
   "id": "c2734dfe",
   "metadata": {},
   "outputs": [],
   "source": [
    "model.evaluate_generator(test_data,steps=50)"
   ]
  },
  {
   "cell_type": "code",
   "execution_count": null,
   "id": "95fb7bbd",
   "metadata": {},
   "outputs": [],
   "source": [
    "import pandas as pd\n",
    "import matplotlib.pyplot as plt\n",
    "pd.DataFrame(model_hist.history).plot(figsize=(10,10)),\n",
    "plt.grid()\n",
    "plt.gca().set_ylim(0,1)\n",
    "plt.show()\n"
   ]
  },
  {
   "cell_type": "code",
   "execution_count": null,
   "id": "80f3127b",
   "metadata": {},
   "outputs": [],
   "source": [
    "data_csv1 = pd.DataFrame(model_hist.history)"
   ]
  },
  {
   "cell_type": "code",
   "execution_count": null,
   "id": "fedec8c2",
   "metadata": {},
   "outputs": [],
   "source": [
    "data_csv2 = \"model_hist.csv\"\n",
    "with open(\"data_csv2.csv\",\"w\") as f:\n",
    "    data_csv1.to_csv(f)"
   ]
  },
  {
   "cell_type": "code",
   "execution_count": null,
   "id": "f3ecf495",
   "metadata": {},
   "outputs": [],
   "source": [
    "from tensorflow.keras.applications import InceptionResNetV2"
   ]
  },
  {
   "cell_type": "code",
   "execution_count": null,
   "id": "a30a4324",
   "metadata": {},
   "outputs": [],
   "source": [
    "con_base  = InceptionResV2(\n",
    "    weights = 'imagenet',\n",
    "    include_top = False,\n",
    "    input_shape = (150,150,3)\n",
    "    \n",
    ")"
   ]
  },
  {
   "cell_type": "code",
   "execution_count": null,
   "id": "a2c36ee2",
   "metadata": {},
   "outputs": [],
   "source": [
    "model12 = models.Sequential()"
   ]
  },
  {
   "cell_type": "code",
   "execution_count": null,
   "id": "812c9fea",
   "metadata": {},
   "outputs": [],
   "source": [
    "model12.add(con_base)\n",
    "model12.add(layers.Flatten())\n",
    "model12.add(layers.Dense(512, activation='relu'))\n",
    "model12.add(layers.Dense(1, activation='sigmoid'))"
   ]
  },
  {
   "cell_type": "code",
   "execution_count": null,
   "id": "9857a3c3",
   "metadata": {},
   "outputs": [],
   "source": [
    "model12.compile(\n",
    "optimizer = optimizers.RMSprop(lr= 1e-5),\n",
    "loss = 'binary_crossentropy',\n",
    "    metrics =['acc']\n",
    ")"
   ]
  },
  {
   "cell_type": "code",
   "execution_count": null,
   "id": "c9986834",
   "metadata": {},
   "outputs": [],
   "source": [
    "#save model after each epochs\n",
    "check_cb12= keras.callbacks.ModelCheckpoint(\"cnn12_model-{epoch:02d}.h5\")"
   ]
  },
  {
   "cell_type": "code",
   "execution_count": null,
   "id": "f82a3383",
   "metadata": {},
   "outputs": [],
   "source": [
    "model_hist = model.fit_generator\n",
    "(\n",
    "    train_data,\n",
    "    steps_per_epoch = 100,\n",
    "    epochs = 4,\n",
    "    validation_data = valid_data,\n",
    "    validation_steps=50,\n",
    "    callbacks = [check_cb12]\n",
    ")"
   ]
  }
 ],
 "metadata": {
  "kernelspec": {
   "display_name": "Python 3",
   "language": "python",
   "name": "python3"
  },
  "language_info": {
   "codemirror_mode": {
    "name": "ipython",
    "version": 3
   },
   "file_extension": ".py",
   "mimetype": "text/x-python",
   "name": "python",
   "nbconvert_exporter": "python",
   "pygments_lexer": "ipython3",
   "version": "3.8.8"
  }
 },
 "nbformat": 4,
 "nbformat_minor": 5
}
